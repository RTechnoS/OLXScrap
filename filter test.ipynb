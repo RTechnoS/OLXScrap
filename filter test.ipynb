{
 "cells": [
  {
   "cell_type": "code",
   "execution_count": 1,
   "id": "1fb0cf7e-c954-4ba1-88c0-8e3654417080",
   "metadata": {},
   "outputs": [],
   "source": [
    "import re"
   ]
  },
  {
   "cell_type": "code",
   "execution_count": 74,
   "id": "a8981a6f-45a8-4f8d-9c30-249e782b2417",
   "metadata": {},
   "outputs": [],
   "source": [
    "title = ['[OLX Autos] Toyota Agya 1.2 TRD Bensin MT 2019 Kuning', '[OLX Autos] Honda Brio 1.2 E M/T 2016 Abu-Abu',\n",
    "        'shock absorber buat mobil suzuki x over belakang merk kayaba ecxel G', '[OLXAutos] Toyota Etios Valco 1.2 G Bensin M/T 2013',\n",
    "        'iBacks case for iphone 6/6s', 'Beli hp minus iphone samsung s20 ultra s21 note 20 zfold 3 12 pro ma', 'Cari / Tampung /Jual / Service TT Laptop Asus Lenovo HP Macbook',\n",
    "        'DP 3JT- ALL NEW NMAX 2021( GARANSI- GRATIS OLI)', 'Dibutuhkan Sales Online (Part time) +Komisi', 'RENOVASI ᴥ PERBAIKAN ᴥ KONTRAKTOR ᴥ ARSITEK ᴥ BANGUN (rumah/gedung)',\n",
    "        'RENOVASI ‡ PERBAIKAN ‡ KONTRAKTOR ‡ ARSITEK ‡ BANGUN (rumah/gedung)']"
   ]
  },
  {
   "cell_type": "code",
   "execution_count": 119,
   "id": "7c6516f6-e14c-4125-9317-891035b2ec6f",
   "metadata": {},
   "outputs": [
    {
     "name": "stdout",
     "output_type": "stream",
     "text": [
      "olx-toyota-agya-12-trd-bensin-mt-2019-kuning\n",
      "olx-honda-brio-12-e-mt-2016-abuabu\n",
      "shock-absorber-buat-mobil-suzuki-x-over-belakang-merk-kayaba-ecxel-g\n",
      "olx-toyota-etios-valco-12-g-bensin-mt-2013\n",
      "ibacks-case-for-iphone-66s\n",
      "beli-hp-minus-iphone-samsung-s20-ultra-s21-note-20-zfold-3-12-pro-ma\n",
      "cari-tampung-jual-service-tt-laptop-asus-lenovo-hp-macbook\n",
      "dp-3jt-all-new-nmax-2021-garansi-gratis-oli\n",
      "dibutuhkan-sales-online-part-time-komisi\n",
      "renovasi-perbaikan-kontraktor-arsitek-bangun-rumahgedung\n",
      "renovasi-perbaikan-kontraktor-arsitek-bangun-rumahgedung\n"
     ]
    }
   ],
   "source": [
    "for i in title:\n",
    "    i = re.sub(r\"\\[(.*?)\\]\", \"olx\",i.lower()).split()\n",
    "    d = []\n",
    "    for j in i:\n",
    "        p = ''.join(re.findall(\"([a-z]|[\\d])\", j))\n",
    "        if p != '':\n",
    "            d.append(p)\n",
    "    d = '-'.join(d)\n",
    "    print(d)\n",
    "    #return d\n",
    "    "
   ]
  },
  {
   "cell_type": "code",
   "execution_count": 104,
   "id": "32d7a941-681b-4112-8af1-d5b97ecacde0",
   "metadata": {},
   "outputs": [
    {
     "name": "stdout",
     "output_type": "stream",
     "text": [
      "['__class__', '__class_getitem__', '__copy__', '__deepcopy__', '__delattr__', '__dir__', '__doc__', '__eq__', '__format__', '__ge__', '__getattribute__', '__getitem__', '__gt__', '__hash__', '__init__', '__init_subclass__', '__le__', '__lt__', '__ne__', '__new__', '__reduce__', '__reduce_ex__', '__repr__', '__setattr__', '__sizeof__', '__str__', '__subclasshook__', 'end', 'endpos', 'expand', 'group', 'groupdict', 'groups', 'lastgroup', 'lastindex', 'pos', 're', 'regs', 'span', 'start', 'string']\n",
      "<re.Match object; span=(0, 1), match='r'>\n"
     ]
    }
   ],
   "source": [
    "st = 'renovasi-ᴥ-perbaikan-ᴥ-kontraktor-ᴥ-arsitek-ᴥ-bangun-rumahgedung'\n",
    "rg = re.findall(r\"([a-z]|[\\d])\",st)\n",
    "print(dir(rg))\n",
    "print(rg)"
   ]
  },
  {
   "cell_type": "code",
   "execution_count": null,
   "id": "46fa0310-a351-4852-a732-28be8803b307",
   "metadata": {},
   "outputs": [],
   "source": []
  }
 ],
 "metadata": {
  "kernelspec": {
   "display_name": "Python 3",
   "language": "python",
   "name": "python3"
  },
  "language_info": {
   "codemirror_mode": {
    "name": "ipython",
    "version": 3
   },
   "file_extension": ".py",
   "mimetype": "text/x-python",
   "name": "python",
   "nbconvert_exporter": "python",
   "pygments_lexer": "ipython3",
   "version": "3.9.2"
  }
 },
 "nbformat": 4,
 "nbformat_minor": 5
}
